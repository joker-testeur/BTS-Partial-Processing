{
 "cells": [
  {
   "cell_type": "code",
   "execution_count": 82,
   "id": "b5868bd5",
   "metadata": {},
   "outputs": [],
   "source": [
    "# Création du dataset des données"
   ]
  },
  {
   "cell_type": "code",
   "execution_count": null,
   "id": "cf39497e",
   "metadata": {},
   "outputs": [],
   "source": [
    "# Motivations : Créer rapidement et tester une structure à petite dimension pouvant généraliser nos données brutes"
   ]
  },
  {
   "cell_type": "code",
   "execution_count": null,
   "id": "6bf6c14e",
   "metadata": {},
   "outputs": [],
   "source": [
    "# Cet algorithme sera par ailleurs utilisé pour les jeux de données après tests"
   ]
  },
  {
   "cell_type": "code",
   "execution_count": 83,
   "id": "dfdcf919",
   "metadata": {},
   "outputs": [],
   "source": [
    "import numpy as np\n",
    "import pandas as pd"
   ]
  },
  {
   "cell_type": "code",
   "execution_count": 84,
   "id": "1e8ab394",
   "metadata": {},
   "outputs": [
    {
     "name": "stdout",
     "output_type": "stream",
     "text": [
      "[['2013-03-06', 1, 4, 8], ['2013-03-08', 4, 2, 1], ['2013-03-06', 3, 1, 9], ['2013-03-09', 2, 3, 8], ['2013-03-07', 1, 4, 10]]\n"
     ]
    }
   ],
   "source": [
    "data = np.zeros((4,4))\n",
    "operations= ([[ '2013-03-06',  1,  4,  8],[ '2013-03-08', 4, 2, 1],[ '2013-03-06', 3,  1,  9],[ '2013-03-09', 2, 3, 8],[ '2013-03-07', 1, 4, 10]])\n",
    "essai_dataframe = pd.DataFrame(operations)\n",
    "print(operations)"
   ]
  },
  {
   "cell_type": "code",
   "execution_count": 85,
   "id": "593abf1c",
   "metadata": {},
   "outputs": [],
   "source": [
    "# En-tête du nouveau tableau\n",
    "en_tete_liste = ['Date', 'site_src', 'site_dest', 'nb_sms']\n",
    "essai_dataframe.columns = en_tete_liste"
   ]
  },
  {
   "cell_type": "code",
   "execution_count": 86,
   "id": "12aba1b1",
   "metadata": {},
   "outputs": [
    {
     "name": "stdout",
     "output_type": "stream",
     "text": [
      "         Date  site_src  site_dest  nb_sms\n",
      "0  2013-03-06         1          4       8\n",
      "1  2013-03-08         4          2       1\n",
      "2  2013-03-06         3          1       9\n",
      "3  2013-03-09         2          3       8\n",
      "4  2013-03-07         1          4      10\n"
     ]
    }
   ],
   "source": [
    "print(essai_dataframe)"
   ]
  },
  {
   "cell_type": "code",
   "execution_count": 87,
   "id": "5b2e8ed6",
   "metadata": {},
   "outputs": [],
   "source": [
    "org = essai_dataframe.groupby('Date')"
   ]
  },
  {
   "cell_type": "code",
   "execution_count": 88,
   "id": "2fb15e04",
   "metadata": {},
   "outputs": [
    {
     "name": "stdout",
     "output_type": "stream",
     "text": [
      "<pandas.core.groupby.generic.DataFrameGroupBy object at 0x7f4cc70876d0>\n"
     ]
    }
   ],
   "source": [
    "print(org)"
   ]
  },
  {
   "cell_type": "code",
   "execution_count": 89,
   "id": "d9b6e15f",
   "metadata": {},
   "outputs": [],
   "source": [
    "# Construire la liste des Dates\n",
    "dates = [] \n",
    "for i in essai_dataframe['Date'] : \n",
    "    if i not in dates: \n",
    "        dates.append(i) "
   ]
  },
  {
   "cell_type": "code",
   "execution_count": 90,
   "id": "9cff1c86",
   "metadata": {},
   "outputs": [
    {
     "name": "stdout",
     "output_type": "stream",
     "text": [
      "['2013-03-06', '2013-03-08', '2013-03-09', '2013-03-07']\n"
     ]
    }
   ],
   "source": [
    "print(dates)"
   ]
  },
  {
   "cell_type": "code",
   "execution_count": 91,
   "id": "fc0eb75e",
   "metadata": {},
   "outputs": [],
   "source": [
    "dates.sort()"
   ]
  },
  {
   "cell_type": "code",
   "execution_count": 92,
   "id": "24a73fef",
   "metadata": {},
   "outputs": [
    {
     "name": "stdout",
     "output_type": "stream",
     "text": [
      "['2013-03-06', '2013-03-07', '2013-03-08', '2013-03-09']\n"
     ]
    }
   ],
   "source": [
    "print(dates)"
   ]
  },
  {
   "cell_type": "code",
   "execution_count": 93,
   "id": "e448544b",
   "metadata": {},
   "outputs": [],
   "source": [
    "# Construire la liste des Sites non classée\n",
    "sites = [] \n",
    "for i in essai_dataframe ['site_src'] : \n",
    "    if i not in sites: \n",
    "        sites.append(i) "
   ]
  },
  {
   "cell_type": "code",
   "execution_count": 94,
   "id": "d9e9aad1",
   "metadata": {},
   "outputs": [
    {
     "name": "stdout",
     "output_type": "stream",
     "text": [
      "[1, 4, 3, 2]\n"
     ]
    }
   ],
   "source": [
    "print(sites)"
   ]
  },
  {
   "cell_type": "code",
   "execution_count": 95,
   "id": "36f75182",
   "metadata": {},
   "outputs": [],
   "source": [
    "# Ordonner la liste\n",
    "sites.sort()"
   ]
  },
  {
   "cell_type": "code",
   "execution_count": 96,
   "id": "421fd305",
   "metadata": {},
   "outputs": [
    {
     "name": "stdout",
     "output_type": "stream",
     "text": [
      "[1, 2, 3, 4]\n"
     ]
    }
   ],
   "source": [
    "print(sites)"
   ]
  },
  {
   "cell_type": "code",
   "execution_count": 97,
   "id": "4abd34c7",
   "metadata": {},
   "outputs": [],
   "source": [
    "df = pd.DataFrame(data=data,index=sites,columns=sites)"
   ]
  },
  {
   "cell_type": "code",
   "execution_count": 98,
   "id": "0f515c68",
   "metadata": {},
   "outputs": [
    {
     "data": {
      "text/html": [
       "<div>\n",
       "<style scoped>\n",
       "    .dataframe tbody tr th:only-of-type {\n",
       "        vertical-align: middle;\n",
       "    }\n",
       "\n",
       "    .dataframe tbody tr th {\n",
       "        vertical-align: top;\n",
       "    }\n",
       "\n",
       "    .dataframe thead th {\n",
       "        text-align: right;\n",
       "    }\n",
       "</style>\n",
       "<table border=\"1\" class=\"dataframe\">\n",
       "  <thead>\n",
       "    <tr style=\"text-align: right;\">\n",
       "      <th></th>\n",
       "      <th>1</th>\n",
       "      <th>2</th>\n",
       "      <th>3</th>\n",
       "      <th>4</th>\n",
       "    </tr>\n",
       "  </thead>\n",
       "  <tbody>\n",
       "    <tr>\n",
       "      <th>1</th>\n",
       "      <td>0.0</td>\n",
       "      <td>0.0</td>\n",
       "      <td>0.0</td>\n",
       "      <td>0.0</td>\n",
       "    </tr>\n",
       "    <tr>\n",
       "      <th>2</th>\n",
       "      <td>0.0</td>\n",
       "      <td>0.0</td>\n",
       "      <td>0.0</td>\n",
       "      <td>0.0</td>\n",
       "    </tr>\n",
       "    <tr>\n",
       "      <th>3</th>\n",
       "      <td>0.0</td>\n",
       "      <td>0.0</td>\n",
       "      <td>0.0</td>\n",
       "      <td>0.0</td>\n",
       "    </tr>\n",
       "    <tr>\n",
       "      <th>4</th>\n",
       "      <td>0.0</td>\n",
       "      <td>0.0</td>\n",
       "      <td>0.0</td>\n",
       "      <td>0.0</td>\n",
       "    </tr>\n",
       "  </tbody>\n",
       "</table>\n",
       "</div>"
      ],
      "text/plain": [
       "     1    2    3    4\n",
       "1  0.0  0.0  0.0  0.0\n",
       "2  0.0  0.0  0.0  0.0\n",
       "3  0.0  0.0  0.0  0.0\n",
       "4  0.0  0.0  0.0  0.0"
      ]
     },
     "execution_count": 98,
     "metadata": {},
     "output_type": "execute_result"
    }
   ],
   "source": [
    "df"
   ]
  },
  {
   "cell_type": "code",
   "execution_count": 99,
   "id": "c76bcf50",
   "metadata": {},
   "outputs": [],
   "source": [
    "df.loc[1,1] = 0"
   ]
  },
  {
   "cell_type": "code",
   "execution_count": 100,
   "id": "2349e947",
   "metadata": {},
   "outputs": [
    {
     "data": {
      "text/html": [
       "<div>\n",
       "<style scoped>\n",
       "    .dataframe tbody tr th:only-of-type {\n",
       "        vertical-align: middle;\n",
       "    }\n",
       "\n",
       "    .dataframe tbody tr th {\n",
       "        vertical-align: top;\n",
       "    }\n",
       "\n",
       "    .dataframe thead th {\n",
       "        text-align: right;\n",
       "    }\n",
       "</style>\n",
       "<table border=\"1\" class=\"dataframe\">\n",
       "  <thead>\n",
       "    <tr style=\"text-align: right;\">\n",
       "      <th></th>\n",
       "      <th>1</th>\n",
       "      <th>2</th>\n",
       "      <th>3</th>\n",
       "      <th>4</th>\n",
       "    </tr>\n",
       "  </thead>\n",
       "  <tbody>\n",
       "    <tr>\n",
       "      <th>1</th>\n",
       "      <td>0.0</td>\n",
       "      <td>0.0</td>\n",
       "      <td>0.0</td>\n",
       "      <td>0.0</td>\n",
       "    </tr>\n",
       "    <tr>\n",
       "      <th>2</th>\n",
       "      <td>0.0</td>\n",
       "      <td>0.0</td>\n",
       "      <td>0.0</td>\n",
       "      <td>0.0</td>\n",
       "    </tr>\n",
       "    <tr>\n",
       "      <th>3</th>\n",
       "      <td>0.0</td>\n",
       "      <td>0.0</td>\n",
       "      <td>0.0</td>\n",
       "      <td>0.0</td>\n",
       "    </tr>\n",
       "    <tr>\n",
       "      <th>4</th>\n",
       "      <td>0.0</td>\n",
       "      <td>0.0</td>\n",
       "      <td>0.0</td>\n",
       "      <td>0.0</td>\n",
       "    </tr>\n",
       "  </tbody>\n",
       "</table>\n",
       "</div>"
      ],
      "text/plain": [
       "     1    2    3    4\n",
       "1  0.0  0.0  0.0  0.0\n",
       "2  0.0  0.0  0.0  0.0\n",
       "3  0.0  0.0  0.0  0.0\n",
       "4  0.0  0.0  0.0  0.0"
      ]
     },
     "execution_count": 100,
     "metadata": {},
     "output_type": "execute_result"
    }
   ],
   "source": [
    "df"
   ]
  },
  {
   "cell_type": "code",
   "execution_count": 101,
   "id": "510eb79d",
   "metadata": {
    "scrolled": true
   },
   "outputs": [
    {
     "name": "stdout",
     "output_type": "stream",
     "text": [
      "         Date  site_src  site_dest  nb_sms\n",
      "0  2013-03-06         1          4       8\n",
      "1  2013-03-08         4          2       1\n",
      "2  2013-03-06         3          1       9\n",
      "3  2013-03-09         2          3       8\n",
      "4  2013-03-07         1          4      10\n"
     ]
    }
   ],
   "source": [
    "print(essai_dataframe)"
   ]
  },
  {
   "cell_type": "code",
   "execution_count": 102,
   "id": "7641c2d6",
   "metadata": {},
   "outputs": [
    {
     "name": "stdout",
     "output_type": "stream",
     "text": [
      "Site : 1\n",
      "2013-03-06\n",
      "4\n",
      "2013-03-07\n",
      "4\n",
      "Site : 2\n",
      "Réduction\n",
      "2013-03-09\n",
      "3\n",
      "Site : 3\n",
      "Réduction\n",
      "Réduction\n",
      "Réduction\n",
      "2013-03-06\n",
      "1\n",
      "Site : 4\n",
      "Réduction\n",
      "Réduction\n",
      "2013-03-08\n",
      "2\n"
     ]
    }
   ],
   "source": [
    "i = 0\n",
    "dest = len(sites)\n",
    "for site in sites:\n",
    "    print(\"Site : \" + str(site))\n",
    "    for date in dates:\n",
    "        for i in (essai_dataframe.index):\n",
    "            if(essai_dataframe.loc[i,\"Date\"] == date and essai_dataframe.loc[i,\"site_src\"] == site):\n",
    "                while(essai_dataframe.loc[i, \"site_dest\"] != dest & dest > 0):\n",
    "                    dest = dest - 1\n",
    "                    print(\"Réduction\")\n",
    "                print(essai_dataframe.loc[i,\"Date\"])\n",
    "                print(essai_dataframe.loc[i,\"site_dest\"])\n",
    "                if(dest > 0):\n",
    "                    df.loc[site,dest] = essai_dataframe.loc[i,\"nb_sms\"] + df.loc[site,dest]\n",
    "            dest = len(sites)"
   ]
  },
  {
   "cell_type": "code",
   "execution_count": 103,
   "id": "befd0411",
   "metadata": {},
   "outputs": [
    {
     "data": {
      "text/html": [
       "<div>\n",
       "<style scoped>\n",
       "    .dataframe tbody tr th:only-of-type {\n",
       "        vertical-align: middle;\n",
       "    }\n",
       "\n",
       "    .dataframe tbody tr th {\n",
       "        vertical-align: top;\n",
       "    }\n",
       "\n",
       "    .dataframe thead th {\n",
       "        text-align: right;\n",
       "    }\n",
       "</style>\n",
       "<table border=\"1\" class=\"dataframe\">\n",
       "  <thead>\n",
       "    <tr style=\"text-align: right;\">\n",
       "      <th></th>\n",
       "      <th>1</th>\n",
       "      <th>2</th>\n",
       "      <th>3</th>\n",
       "      <th>4</th>\n",
       "    </tr>\n",
       "  </thead>\n",
       "  <tbody>\n",
       "    <tr>\n",
       "      <th>1</th>\n",
       "      <td>0.0</td>\n",
       "      <td>0.0</td>\n",
       "      <td>0.0</td>\n",
       "      <td>18.0</td>\n",
       "    </tr>\n",
       "    <tr>\n",
       "      <th>2</th>\n",
       "      <td>0.0</td>\n",
       "      <td>0.0</td>\n",
       "      <td>8.0</td>\n",
       "      <td>0.0</td>\n",
       "    </tr>\n",
       "    <tr>\n",
       "      <th>3</th>\n",
       "      <td>9.0</td>\n",
       "      <td>0.0</td>\n",
       "      <td>0.0</td>\n",
       "      <td>0.0</td>\n",
       "    </tr>\n",
       "    <tr>\n",
       "      <th>4</th>\n",
       "      <td>0.0</td>\n",
       "      <td>1.0</td>\n",
       "      <td>0.0</td>\n",
       "      <td>0.0</td>\n",
       "    </tr>\n",
       "  </tbody>\n",
       "</table>\n",
       "</div>"
      ],
      "text/plain": [
       "     1    2    3     4\n",
       "1  0.0  0.0  0.0  18.0\n",
       "2  0.0  0.0  8.0   0.0\n",
       "3  9.0  0.0  0.0   0.0\n",
       "4  0.0  1.0  0.0   0.0"
      ]
     },
     "execution_count": 103,
     "metadata": {},
     "output_type": "execute_result"
    }
   ],
   "source": [
    "df"
   ]
  },
  {
   "cell_type": "code",
   "execution_count": 104,
   "id": "bc21de4e",
   "metadata": {},
   "outputs": [],
   "source": [
    "df.to_csv('dataset_exemple.csv')"
   ]
  },
  {
   "cell_type": "code",
   "execution_count": null,
   "id": "84dff26b",
   "metadata": {},
   "outputs": [],
   "source": []
  }
 ],
 "metadata": {
  "kernelspec": {
   "display_name": "Python 3",
   "language": "python",
   "name": "python3"
  },
  "language_info": {
   "codemirror_mode": {
    "name": "ipython",
    "version": 3
   },
   "file_extension": ".py",
   "mimetype": "text/x-python",
   "name": "python",
   "nbconvert_exporter": "python",
   "pygments_lexer": "ipython3",
   "version": "3.8.8"
  }
 },
 "nbformat": 4,
 "nbformat_minor": 5
}
