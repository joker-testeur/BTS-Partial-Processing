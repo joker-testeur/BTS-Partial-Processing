{
 "cells": [
  {
   "cell_type": "code",
   "execution_count": 1,
   "id": "a9b50dd0",
   "metadata": {},
   "outputs": [],
   "source": [
    "# Création du dataset des données"
   ]
  },
  {
   "cell_type": "code",
   "execution_count": null,
   "id": "fd7b5cac",
   "metadata": {},
   "outputs": [],
   "source": [
    "# Import des Bibliothèques nécessaires pour le travail"
   ]
  },
  {
   "cell_type": "code",
   "execution_count": 2,
   "id": "a5a32161",
   "metadata": {},
   "outputs": [],
   "source": [
    "import numpy as np\n",
    "import pandas as pd\n",
    "import warnings"
   ]
  },
  {
   "cell_type": "code",
   "execution_count": null,
   "id": "e9909138",
   "metadata": {},
   "outputs": [],
   "source": [
    "# Chargement des Données brutes pour traitements"
   ]
  },
  {
   "cell_type": "code",
   "execution_count": null,
   "id": "7b87b714",
   "metadata": {},
   "outputs": [],
   "source": [
    "# liste_operation est la liste des quantités de sms échangé entre deux bts à une date donnée\n",
    "liste_operations = pd.read_csv(\"SET1S_01.CSV\")"
   ]
  },
  {
   "cell_type": "code",
   "execution_count": 3,
   "id": "782ee51d",
   "metadata": {},
   "outputs": [],
   "source": [
    "# liste_site est la liste des informations sur les sites\n",
    "liste_sites = pd.read_csv(\"SITE_ARR_LONLAT.CSV\")"
   ]
  },
  {
   "cell_type": "code",
   "execution_count": 4,
   "id": "a27ebd2c",
   "metadata": {},
   "outputs": [],
   "source": [
    "# Copie du jeu de données pour traitements\n",
    "operations = liste_operations\n",
    "# En-tête du nouveau tableau afin de faciliter la recherche dans l'algorithme\n",
    "en_tete_liste = ['Date', 'site_src', 'site_dest', 'nb_sms']\n",
    "# Ajout de l'en-tête au tableau de données pour un meilleur traitement\n",
    "operations.columns = en_tete_liste"
   ]
  },
  {
   "cell_type": "code",
   "execution_count": 5,
   "id": "4425d709",
   "metadata": {},
   "outputs": [],
   "source": [
    "# Algorithme pour la création du tableau des dates nécessaires pour la boucle\n",
    "dates = [] \n",
    "for i in operations['Date'] : \n",
    "    if i not in dates: \n",
    "        dates.append(i) "
   ]
  },
  {
   "cell_type": "code",
   "execution_count": 6,
   "id": "b54570dc",
   "metadata": {},
   "outputs": [],
   "source": [
    "#  Algorithme pour la création du tableau des sites nécessaires pour la boucle\n",
    "sites = [] \n",
    "for i in liste_sites ['site_id'] : \n",
    "    if i not in sites: \n",
    "        sites.append(i) "
   ]
  },
  {
   "cell_type": "code",
   "execution_count": 7,
   "id": "8f76ecb0",
   "metadata": {},
   "outputs": [],
   "source": [
    "# Création d'une Matrice 1666x1666 initialisée par zéro partout: variable devant nous aider à générer le dataset\n",
    "data = np.zeros((1666,1666))"
   ]
  },
  {
   "cell_type": "code",
   "execution_count": 8,
   "id": "e349d279",
   "metadata": {},
   "outputs": [],
   "source": [
    "# Création d'un Jeu de Données de taille 1666x1666 initialisée par zéro partout: avec les étiquettes des sites aux lignes et aux colonnes\n",
    "df = pd.DataFrame(data=data,index=sites,columns=sites)"
   ]
  },
  {
   "cell_type": "code",
   "execution_count": null,
   "id": "7aedd5b9",
   "metadata": {},
   "outputs": [],
   "source": [
    "# Remplissage des Informations pour le chargement de la variable df, variable qui nous donne le jeu de données\n",
    "i = 0\n",
    "dest = len(sites)\n",
    "for site in sites:\n",
    "    for date in dates:\n",
    "        for i in (operations.index):\n",
    "            if(operations.loc[i,\"Date\"] == date and operations.loc[i,\"site_src\"] == site):\n",
    "                while(operations.loc[i, \"site_dest\"] != dest & dest > 0):\n",
    "                    dest = dest - 1\n",
    "                if(dest > 0):\n",
    "                    df.loc[site,dest] = operations.loc[i,\"nb_sms\"] + df.loc[site,dest]\n",
    "            dest = len(sites)"
   ]
  },
  {
   "cell_type": "code",
   "execution_count": null,
   "id": "9fad3c6f",
   "metadata": {},
   "outputs": [],
   "source": [
    "# Création du Dataset source pour manipulation ultérieure\n",
    "df.to_csv('dataset.csv')"
   ]
  }
 ],
 "metadata": {
  "kernelspec": {
   "display_name": "Python 3",
   "language": "python",
   "name": "python3"
  },
  "language_info": {
   "codemirror_mode": {
    "name": "ipython",
    "version": 3
   },
   "file_extension": ".py",
   "mimetype": "text/x-python",
   "name": "python",
   "nbconvert_exporter": "python",
   "pygments_lexer": "ipython3",
   "version": "3.8.8"
  }
 },
 "nbformat": 4,
 "nbformat_minor": 5
}
